{
 "cells": [
  {
   "cell_type": "code",
   "execution_count": 6,
   "metadata": {},
   "outputs": [],
   "source": [
    "import pandas as pd\n",
    "from icecream import ic\n",
    "import sqlite3"
   ]
  },
  {
   "cell_type": "code",
   "execution_count": 16,
   "metadata": {},
   "outputs": [
    {
     "data": {
      "text/plain": [
       "<bound method NDFrame.describe of                event_id          fight_id        fighter_id  round  kd  \\\n",
       "0      a6a9ab5a824e8f66  4acab67848e78327  be9d259be012e8a4      1   0   \n",
       "1      a6a9ab5a824e8f66  4acab67848e78327  a683f9ddb70aa4bd      1   0   \n",
       "2      a6a9ab5a824e8f66  4b9ae533ccb3fcdf  46c8ec317aff28ac      1   0   \n",
       "3      a6a9ab5a824e8f66  4b9ae533ccb3fcdf  ea0ad155451ed1f5      1   0   \n",
       "4      a6a9ab5a824e8f66  ccee020be2e8d9f6  319fa1bd3176bded      1   0   \n",
       "...                 ...               ...               ...    ...  ..   \n",
       "34543  5a558ba1ff5e9121  db49619221b282af  399afbabc02376b5      1   1   \n",
       "34544  5a558ba1ff5e9121  b1f2ec122beda7a5  009341ed974bad72      1   0   \n",
       "34545  5a558ba1ff5e9121  b1f2ec122beda7a5  e5549c82bfb5582d      1   0   \n",
       "34546  5a558ba1ff5e9121  b1f2ec122beda7a5  009341ed974bad72      2   0   \n",
       "34547  5a558ba1ff5e9121  b1f2ec122beda7a5  e5549c82bfb5582d      2   1   \n",
       "\n",
       "       sig_str_landed  sig_str_att sig_str_perc  total_str_landed  \\\n",
       "0                   1            1          1.0                 2   \n",
       "1                   0            4          0.0                 1   \n",
       "2                   1            1          1.0                 1   \n",
       "3                   1            1          1.0                 2   \n",
       "4                  11           17         0.64                74   \n",
       "...               ...          ...          ...               ...   \n",
       "34543              10           14         0.71                10   \n",
       "34544              11           19         0.57                23   \n",
       "34545              11           20         0.55                17   \n",
       "34546              19           34         0.55                21   \n",
       "34547              27           41         0.65                32   \n",
       "\n",
       "       total_str_att  ...  legs_att  distance_landed distance_att  \\\n",
       "0                  2  ...         0                0            0   \n",
       "1                  5  ...         2                0            3   \n",
       "2                  1  ...         0                0            0   \n",
       "3                  2  ...         1                1            1   \n",
       "4                 86  ...         1                1            1   \n",
       "...              ...  ...       ...              ...          ...   \n",
       "34543             14  ...         3                7           11   \n",
       "34544             33  ...         3                8           16   \n",
       "34545             26  ...         8                8           17   \n",
       "34546             37  ...         3               18           33   \n",
       "34547             46  ...         7               14           26   \n",
       "\n",
       "       clinch_landed  clinch_att  ground_landed  ground_att  sub_att  rev  \\\n",
       "0                  1           1              0           0        1    0   \n",
       "1                  0           1              0           0        0    0   \n",
       "2                  1           1              0           0        1    0   \n",
       "3                  0           0              0           0        0    0   \n",
       "4                  1           1              9          15        0    0   \n",
       "...              ...         ...            ...         ...      ...  ...   \n",
       "34543              0           0              3           3        0    0   \n",
       "34544              1           1              2           2        0    0   \n",
       "34545              3           3              0           0        1    0   \n",
       "34546              1           1              0           0        0    0   \n",
       "34547              1           1             12          14        0    0   \n",
       "\n",
       "       ctrl  \n",
       "0      None  \n",
       "1      None  \n",
       "2      None  \n",
       "3      None  \n",
       "4      None  \n",
       "...     ...  \n",
       "34543  0:02  \n",
       "34544  2:17  \n",
       "34545  0:00  \n",
       "34546  0:28  \n",
       "34547  0:08  \n",
       "\n",
       "[34548 rows x 28 columns]>"
      ]
     },
     "execution_count": 16,
     "metadata": {},
     "output_type": "execute_result"
    }
   ],
   "source": [
    "conn = sqlite3.connect(\"ufcql.db\")\n",
    "df = pd.read_sql('select * from rounds', conn)\n",
    "\n",
    "df.describe"
   ]
  },
  {
   "cell_type": "code",
   "execution_count": null,
   "metadata": {},
   "outputs": [],
   "source": []
  }
 ],
 "metadata": {
  "kernelspec": {
   "display_name": "Python 3",
   "language": "python",
   "name": "python3"
  },
  "language_info": {
   "codemirror_mode": {
    "name": "ipython",
    "version": 3
   },
   "file_extension": ".py",
   "mimetype": "text/x-python",
   "name": "python",
   "nbconvert_exporter": "python",
   "pygments_lexer": "ipython3",
   "version": "3.11.5"
  }
 },
 "nbformat": 4,
 "nbformat_minor": 2
}
