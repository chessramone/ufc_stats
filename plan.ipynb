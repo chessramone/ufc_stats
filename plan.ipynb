{
 "cells": [
  {
   "cell_type": "markdown",
   "metadata": {},
   "source": [
    "\n",
    "# ufcstats.com \n",
    "index  \n",
    "a list of events (cards) - one upcoming, the rest completed  \n",
    "• name, date, location  \n",
    "\n",
    "index > event_details  \n",
    "a list of fights on the card  \n",
    "• fight order, weightclass, fotn/perf bonus, method, round, time\n",
    "\n",
    "event_details > fight_details  \n",
    "the round by round stats  \n",
    "• red/blue corner, ref, details, all rbr stats  \n",
    "\n",
    "fight_details > fighter_details:\n",
    "fighter info  \n",
    "• height, weight, reach, stance, dob, debut date"
   ]
  },
  {
   "cell_type": "code",
   "execution_count": 14,
   "metadata": {},
   "outputs": [],
   "source": [
    "import os\n",
    "from icecream import ic\n",
    "from bs4 import BeautifulSoup\n",
    "import pandas as pd"
   ]
  },
  {
   "cell_type": "code",
   "execution_count": null,
   "metadata": {},
   "outputs": [],
   "source": [
    "os.getcwd()\n",
    "\n",
    "def sort_function(card):\n",
    "    return int(card.split('_')[0])\n",
    "\n",
    "cd_base         = 'html/event_details'\n",
    "cards_details   = sorted(os.listdir(cd_base), key=sort_function)\n",
    "\n",
    "fd_base         = 'html/fight_details'\n",
    "card_fights     = sorted(os.listdir(fd_base), key=sort_function)\n",
    "\n",
    "roster          = os.listdir('html/fighter_details/')\n",
    "\n",
    "# This is the main loop:\n",
    "for card in card_fights:\n",
    "    for fight in sorted(os.listdir(f'{fd_base}/{card}'), key=sort_function):\n",
    "        current_file = f'{fd_base}/{card}/{fight}'\n",
    "        ic(current_file)"
   ]
  },
  {
   "cell_type": "markdown",
   "metadata": {},
   "source": [
    "# Design the API\n",
    "\n",
    "## Index\n",
    "the index class is used to scrape the new index page  \n",
    "that is all\n",
    "\n",
    "## EventDetails (Card)\n",
    "• scrapes the new events details page  \n",
    "\n",
    "## FightDetails (card dir with fight html files)\n",
    "• creates the new fight_details folder  \n",
    "• scrapes each new fight\n"
   ]
  },
  {
   "cell_type": "markdown",
   "metadata": {},
   "source": []
  }
 ],
 "metadata": {
  "kernelspec": {
   "display_name": "Python 3",
   "language": "python",
   "name": "python3"
  },
  "language_info": {
   "codemirror_mode": {
    "name": "ipython",
    "version": 3
   },
   "file_extension": ".py",
   "mimetype": "text/x-python",
   "name": "python",
   "nbconvert_exporter": "python",
   "pygments_lexer": "ipython3",
   "version": "3.11.5"
  }
 },
 "nbformat": 4,
 "nbformat_minor": 2
}
